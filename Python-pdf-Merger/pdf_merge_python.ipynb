{
 "cells": [
  {
   "cell_type": "code",
   "execution_count": 2,
   "id": "52b49f34",
   "metadata": {
    "ExecuteTime": {
     "end_time": "2022-07-15T14:54:45.043476Z",
     "start_time": "2022-07-15T14:54:42.352451Z"
    },
    "deletable": false,
    "editable": false,
    "run_control": {
     "frozen": true
    }
   },
   "outputs": [
    {
     "name": "stdout",
     "output_type": "stream",
     "text": [
      "Requirement already satisfied: PyPDF2 in d:\\anaconda\\lib\\site-packages (2.5.0)\n",
      "Requirement already satisfied: typing-extensions in d:\\anaconda\\lib\\site-packages (from PyPDF2) (3.10.0.2)\n"
     ]
    }
   ],
   "source": [
    "# Creating a python program to easily merge pdf documents with similar naming conditions:\n",
    "# Installing all the necessary dependencies.\n",
    "#!pip install PyPDF2"
   ]
  },
  {
   "cell_type": "code",
   "execution_count": 3,
   "id": "c88b4ab3",
   "metadata": {
    "ExecuteTime": {
     "end_time": "2022-07-15T15:01:31.848184Z",
     "start_time": "2022-07-15T15:01:31.833437Z"
    },
    "deletable": false,
    "editable": false,
    "run_control": {
     "frozen": true
    }
   },
   "outputs": [],
   "source": [
    "# Importing necessary python Libraries and modules:\n",
    "import os\n",
    "import shutil"
   ]
  },
  {
   "cell_type": "code",
   "execution_count": 4,
   "id": "7f670875",
   "metadata": {
    "ExecuteTime": {
     "end_time": "2022-07-15T15:01:32.983213Z",
     "start_time": "2022-07-15T15:01:32.951088Z"
    },
    "deletable": false,
    "editable": false,
    "run_control": {
     "frozen": true
    }
   },
   "outputs": [
    {
     "data": {
      "text/plain": [
       "'C:\\\\Users\\\\Subhrajit'"
      ]
     },
     "execution_count": 4,
     "metadata": {},
     "output_type": "execute_result"
    }
   ],
   "source": [
    "# Present working directory:\n",
    "%pwd"
   ]
  },
  {
   "cell_type": "code",
   "execution_count": null,
   "id": "1accac20",
   "metadata": {
    "ExecuteTime": {
     "end_time": "2022-07-15T15:06:52.217431Z",
     "start_time": "2022-07-15T15:06:52.204462Z"
    },
    "deletable": false,
    "editable": false,
    "run_control": {
     "frozen": true
    }
   },
   "outputs": [],
   "source": [
    "# List all the files in the downloads folder.\n",
    "os.listdir('C:\\\\Users\\\\Subhrajit\\\\Downloads/')"
   ]
  },
  {
   "cell_type": "code",
   "execution_count": 11,
   "id": "1fa47d61",
   "metadata": {
    "ExecuteTime": {
     "end_time": "2022-07-15T15:16:42.727874Z",
     "start_time": "2022-07-15T15:16:42.710952Z"
    },
    "deletable": false,
    "editable": false,
    "run_control": {
     "frozen": true
    }
   },
   "outputs": [
    {
     "name": "stdout",
     "output_type": "stream",
     "text": [
      "['Day - 1 (1).pdf', 'Day - 1.pdf', 'Day 10.pdf', 'Day 2 (1).pdf', 'Day 2.pdf', 'Day 3 (1).pdf', 'Day 3.pdf', 'Day 4 (1).pdf', 'Day 4.pdf', 'Day 5.pdf', 'Day 6 (1).pdf', 'Day 6.pdf', 'Day 7.pdf', 'Day 8 (1).pdf', 'Day 8.pdf', 'Day 9.pdf', 'Doubts Day - 2 (1).pdf', 'Doubts Day - 2.pdf', 'Doubts Day - 3.pdf', 'Doubts Day - 5 & 6.pdf']\n"
     ]
    }
   ],
   "source": [
    "# Search for all the files downloaded from having the file names starting with 'Day'\n",
    "req_file = []\n",
    "#Creating an empty list to store the names of the files to be merged.\n",
    "for file_name in os.listdir('C:\\\\Users\\\\Subhrajit\\\\Downloads/'):\n",
    "    if 'Day' in file_name:\n",
    "        # Searching for files which has Day in its name. \n",
    "        req_file.append(file_name)\n",
    "# Printing the \n",
    "print(req_file)"
   ]
  },
  {
   "cell_type": "code",
   "execution_count": 13,
   "id": "1742fa4e",
   "metadata": {
    "ExecuteTime": {
     "end_time": "2022-07-15T15:21:13.474027Z",
     "start_time": "2022-07-15T15:21:13.458070Z"
    },
    "deletable": false,
    "editable": false,
    "run_control": {
     "frozen": true
    }
   },
   "outputs": [],
   "source": [
    "# Make a New directory and Move all the files to the new directory.\n",
    "os.mkdir(\"FEC_Course\")\n",
    "os.chdir('C:\\\\Users\\\\Subhrajit\\\\FEC_Course/')"
   ]
  },
  {
   "cell_type": "code",
   "execution_count": 14,
   "id": "0942c0ec",
   "metadata": {
    "ExecuteTime": {
     "end_time": "2022-07-15T15:24:23.161597Z",
     "start_time": "2022-07-15T15:24:23.142670Z"
    },
    "deletable": false,
    "editable": false,
    "run_control": {
     "frozen": true
    }
   },
   "outputs": [
    {
     "data": {
      "text/plain": [
       "'C:\\\\Users\\\\Subhrajit\\\\FEC_Course'"
      ]
     },
     "execution_count": 14,
     "metadata": {},
     "output_type": "execute_result"
    }
   ],
   "source": [
    "os.getcwd()"
   ]
  },
  {
   "cell_type": "code",
   "execution_count": 15,
   "id": "84256494",
   "metadata": {
    "ExecuteTime": {
     "end_time": "2022-07-15T15:35:39.044093Z",
     "start_time": "2022-07-15T15:35:39.010218Z"
    },
    "deletable": false,
    "editable": false,
    "run_control": {
     "frozen": true
    }
   },
   "outputs": [
    {
     "name": "stdout",
     "output_type": "stream",
     "text": [
      "Moved: Day - 1 (1).pdf to the new directory.\n",
      "Moved: Day - 1.pdf to the new directory.\n",
      "Moved: Day 10.pdf to the new directory.\n",
      "Moved: Day 2 (1).pdf to the new directory.\n",
      "Moved: Day 2.pdf to the new directory.\n",
      "Moved: Day 3 (1).pdf to the new directory.\n",
      "Moved: Day 3.pdf to the new directory.\n",
      "Moved: Day 4 (1).pdf to the new directory.\n",
      "Moved: Day 4.pdf to the new directory.\n",
      "Moved: Day 5.pdf to the new directory.\n",
      "Moved: Day 6 (1).pdf to the new directory.\n",
      "Moved: Day 6.pdf to the new directory.\n",
      "Moved: Day 7.pdf to the new directory.\n",
      "Moved: Day 8 (1).pdf to the new directory.\n",
      "Moved: Day 8.pdf to the new directory.\n",
      "Moved: Day 9.pdf to the new directory.\n",
      "Moved: Doubts Day - 2 (1).pdf to the new directory.\n",
      "Moved: Doubts Day - 2.pdf to the new directory.\n",
      "Moved: Doubts Day - 3.pdf to the new directory.\n",
      "Moved: Doubts Day - 5 & 6.pdf to the new directory.\n"
     ]
    }
   ],
   "source": [
    "# using a 'r' prior to a string means that thet entire string will be evaluated as RAW string.\n",
    "source_loc = r'C:\\\\Users\\\\Subhrajit\\\\Downloads/'\n",
    "dest_loc = r'C:\\\\Users\\\\Subhrajit\\\\FEC_Course/'\n",
    "\n",
    "# Moving all the files starting with 'Day' to the FEC_course directory:\n",
    "for file in req_file:\n",
    "    source = source_loc + str(file)\n",
    "    # Move the files if and only if it is present in the directory:\n",
    "    if os.path.isfile(source):\n",
    "        shutil.move(source, dest_loc)\n",
    "        print(f'Moved: {file} to the new directory.')"
   ]
  },
  {
   "cell_type": "code",
   "execution_count": 16,
   "id": "a22d7fb1",
   "metadata": {
    "ExecuteTime": {
     "end_time": "2022-07-15T15:38:33.461693Z",
     "start_time": "2022-07-15T15:38:33.445750Z"
    },
    "deletable": false,
    "editable": false,
    "run_control": {
     "frozen": true
    }
   },
   "outputs": [
    {
     "data": {
      "text/plain": [
       "['Day - 1 (1).pdf',\n",
       " 'Day - 1.pdf',\n",
       " 'Day 10.pdf',\n",
       " 'Day 2 (1).pdf',\n",
       " 'Day 2.pdf',\n",
       " 'Day 3 (1).pdf',\n",
       " 'Day 3.pdf',\n",
       " 'Day 4 (1).pdf',\n",
       " 'Day 4.pdf',\n",
       " 'Day 5.pdf',\n",
       " 'Day 6 (1).pdf',\n",
       " 'Day 6.pdf',\n",
       " 'Day 7.pdf',\n",
       " 'Day 8 (1).pdf',\n",
       " 'Day 8.pdf',\n",
       " 'Day 9.pdf',\n",
       " 'Doubts Day - 2 (1).pdf',\n",
       " 'Doubts Day - 2.pdf',\n",
       " 'Doubts Day - 3.pdf',\n",
       " 'Doubts Day - 5 & 6.pdf']"
      ]
     },
     "execution_count": 16,
     "metadata": {},
     "output_type": "execute_result"
    }
   ],
   "source": [
    "# Verifying if the files were moved to the new directory (or) not.\n",
    "os.listdir('C:\\\\Users\\\\Subhrajit\\\\FEC_Course/')"
   ]
  },
  {
   "cell_type": "code",
   "execution_count": 17,
   "id": "3285c3df",
   "metadata": {
    "ExecuteTime": {
     "end_time": "2022-07-15T16:00:11.229579Z",
     "start_time": "2022-07-15T16:00:11.190861Z"
    },
    "deletable": false,
    "editable": false,
    "run_control": {
     "frozen": true
    }
   },
   "outputs": [
    {
     "name": "stdout",
     "output_type": "stream",
     "text": [
      "Removed: Day - 1 (1).pdf\n",
      "Removed: Day 2 (1).pdf\n",
      "Removed: Day 3 (1).pdf\n",
      "Removed: Day 4 (1).pdf\n",
      "Removed: Day 6 (1).pdf\n",
      "Removed: Day 8 (1).pdf\n",
      "Removed: Doubts Day - 2 (1).pdf\n"
     ]
    }
   ],
   "source": [
    "# Removing all the duplicate files from the directory:\n",
    "# All the duplicates end with '(1)'.\n",
    "folder_path = r'C:\\\\Users\\\\Subhrajit\\\\FEC_Course/'\n",
    "for file_name in os.listdir('C:\\\\Users\\\\Subhrajit\\\\FEC_Course/'):\n",
    "    if '(1)' in file_name:\n",
    "        file_link = folder_path + str(file_name)\n",
    "        os.remove(file_link)\n",
    "        print(f'Removed: {file_name}')"
   ]
  },
  {
   "cell_type": "code",
   "execution_count": 18,
   "id": "3901eede",
   "metadata": {
    "ExecuteTime": {
     "end_time": "2022-07-15T16:00:51.639626Z",
     "start_time": "2022-07-15T16:00:51.629654Z"
    }
   },
   "outputs": [
    {
     "data": {
      "text/plain": [
       "['Day - 1.pdf',\n",
       " 'Day 10.pdf',\n",
       " 'Day 2.pdf',\n",
       " 'Day 3.pdf',\n",
       " 'Day 4.pdf',\n",
       " 'Day 5.pdf',\n",
       " 'Day 6.pdf',\n",
       " 'Day 7.pdf',\n",
       " 'Day 8.pdf',\n",
       " 'Day 9.pdf',\n",
       " 'Doubts Day - 2.pdf',\n",
       " 'Doubts Day - 3.pdf',\n",
       " 'Doubts Day - 5 & 6.pdf']"
      ]
     },
     "execution_count": 18,
     "metadata": {},
     "output_type": "execute_result"
    }
   ],
   "source": [
    "# Verifying if the files were removed or not.\n",
    "os.listdir('C:\\\\Users\\\\Subhrajit\\\\FEC_Course/')"
   ]
  },
  {
   "cell_type": "code",
   "execution_count": 19,
   "id": "8bb653c5",
   "metadata": {
    "ExecuteTime": {
     "end_time": "2022-07-15T16:02:57.430905Z",
     "start_time": "2022-07-15T16:02:57.417937Z"
    },
    "deletable": false,
    "editable": false,
    "run_control": {
     "frozen": true
    }
   },
   "outputs": [],
   "source": [
    "# Further cleaning the 1st files's name:\n",
    "os.rename('C:\\\\Users\\\\Subhrajit\\\\FEC_Course/Day - 1.pdf', 'C:\\\\Users\\\\Subhrajit\\\\FEC_Course/Day 1.pdf')"
   ]
  },
  {
   "cell_type": "code",
   "execution_count": 20,
   "id": "1a2595c6",
   "metadata": {
    "ExecuteTime": {
     "end_time": "2022-07-15T16:03:15.264951Z",
     "start_time": "2022-07-15T16:03:15.251986Z"
    }
   },
   "outputs": [
    {
     "data": {
      "text/plain": [
       "['Day 1.pdf',\n",
       " 'Day 10.pdf',\n",
       " 'Day 2.pdf',\n",
       " 'Day 3.pdf',\n",
       " 'Day 4.pdf',\n",
       " 'Day 5.pdf',\n",
       " 'Day 6.pdf',\n",
       " 'Day 7.pdf',\n",
       " 'Day 8.pdf',\n",
       " 'Day 9.pdf',\n",
       " 'Doubts Day - 2.pdf',\n",
       " 'Doubts Day - 3.pdf',\n",
       " 'Doubts Day - 5 & 6.pdf']"
      ]
     },
     "execution_count": 20,
     "metadata": {},
     "output_type": "execute_result"
    }
   ],
   "source": [
    "os.listdir('C:\\\\Users\\\\Subhrajit\\\\FEC_Course/')"
   ]
  },
  {
   "cell_type": "code",
   "execution_count": 25,
   "id": "3d092aa8",
   "metadata": {
    "ExecuteTime": {
     "end_time": "2022-07-15T16:27:10.404318Z",
     "start_time": "2022-07-15T16:27:09.551344Z"
    },
    "deletable": false,
    "editable": false,
    "run_control": {
     "frozen": true
    }
   },
   "outputs": [
    {
     "name": "stdout",
     "output_type": "stream",
     "text": [
      "Appended: Day 1.pdf\n",
      "Appended: Day 10.pdf\n",
      "Appended: Day 2.pdf\n",
      "Appended: Day 3.pdf\n",
      "Appended: Day 4.pdf\n",
      "Appended: Day 5.pdf\n",
      "Appended: Day 6.pdf\n",
      "Appended: Day 7.pdf\n",
      "Appended: Day 8.pdf\n",
      "Appended: Day 9.pdf\n"
     ]
    }
   ],
   "source": [
    "from PyPDF2 import PdfMerger\n",
    "\n",
    "clean_pdf = []\n",
    "i = 1\n",
    "for file in os.listdir('C:\\\\Users\\\\Subhrajit\\\\FEC_Course/'):\n",
    "    if file == ('Day '+ str(i) +'.pdf'):\n",
    "        clean_pdf.append(file)\n",
    "        print(f'Appended: {file}')\n",
    "        i += 1\n",
    "    elif file == ('Day 10.pdf'):\n",
    "        clean_pdf.append(file)\n",
    "        print(f'Appended: {file}')\n",
    "\n",
    "merger = PdfMerger()\n",
    "\n",
    "for pdf in clean_pdf:\n",
    "    merger.append(pdf)\n",
    "\n",
    "merger.write(\"Combined_FEC.pdf\")\n",
    "merger.close()"
   ]
  },
  {
   "cell_type": "code",
   "execution_count": 26,
   "id": "7e8f11f4",
   "metadata": {
    "ExecuteTime": {
     "end_time": "2022-07-15T16:27:15.458026Z",
     "start_time": "2022-07-15T16:27:15.437084Z"
    },
    "deletable": false,
    "editable": false,
    "run_control": {
     "frozen": true
    }
   },
   "outputs": [
    {
     "data": {
      "text/plain": [
       "['Combined_FEC.pdf',\n",
       " 'Combined_FEC_Course.pdf',\n",
       " 'Combined_FEC_Doc.pdf',\n",
       " 'Day 1.pdf',\n",
       " 'Day 10.pdf',\n",
       " 'Day 2.pdf',\n",
       " 'Day 3.pdf',\n",
       " 'Day 4.pdf',\n",
       " 'Day 5.pdf',\n",
       " 'Day 6.pdf',\n",
       " 'Day 7.pdf',\n",
       " 'Day 8.pdf',\n",
       " 'Day 9.pdf',\n",
       " 'Doubts Day - 2.pdf',\n",
       " 'Doubts Day - 3.pdf',\n",
       " 'Doubts Day - 5 & 6.pdf']"
      ]
     },
     "execution_count": 26,
     "metadata": {},
     "output_type": "execute_result"
    }
   ],
   "source": [
    "os.listdir('C:\\\\Users\\\\Subhrajit\\\\FEC_Course/')"
   ]
  }
 ],
 "metadata": {
  "kernelspec": {
   "display_name": "Python 3 (ipykernel)",
   "language": "python",
   "name": "python3"
  },
  "language_info": {
   "codemirror_mode": {
    "name": "ipython",
    "version": 3
   },
   "file_extension": ".py",
   "mimetype": "text/x-python",
   "name": "python",
   "nbconvert_exporter": "python",
   "pygments_lexer": "ipython3",
   "version": "3.9.7"
  }
 },
 "nbformat": 4,
 "nbformat_minor": 5
}
